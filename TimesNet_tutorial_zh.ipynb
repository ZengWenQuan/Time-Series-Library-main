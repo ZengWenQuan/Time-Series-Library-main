{
 "cells": [
  {
   "cell_type": "markdown",
   "metadata": {},
   "source": [
    "# TimesNet 中文教程\n",
    "**环境配置说明：** 本Notebook为`TimesNet`支持的学习任务提供中文教程。\n",
    "\n",
    "`TimesNet` 支持5大类任务，分别为：长期预测、短期预测、数据插补、异常检测、分类。"
   ]
  },
  {
   "cell_type": "markdown",
   "metadata": {},
   "source": [
    "### 1. 安装Python 3.8。推荐执行如下命令。"
   ]
  },
  {
   "cell_type": "code",
   "execution_count": null,
   "metadata": {
    "vscode": {
     "languageId": "shellscript"
    }
   },
   "outputs": [],
   "source": [
    "pip install -r ../requirements.txt"
   ]
  },
  {
   "cell_type": "markdown",
   "metadata": {},
   "source": [
    "### 2. 导入依赖包"
   ]
  },
  {
   "cell_type": "code",
   "execution_count": null,
   "metadata": {},
   "outputs": [],
   "source": [
    "import torch\n",
    "import torch.nn as nn\n",
    "import torch.nn.functional as F\n",
    "import torch.fft\n",
    "\n",
    "from layers.Embed import DataEmbedding\n",
    "from layers.Conv_Blocks import Inception_Block_V1   # 用于2D时序数据卷积的模块，可更换"
   ]
  },
  {
   "cell_type": "markdown",
   "metadata": {},
   "source": [
    "### 3. TimesBlock 构建\n",
    "`TimesNet`的核心思想在于`TimesBlock`的构建。其主要通过对数据进行FFT获取基频，然后将时间序列根据主基频分别重塑为2D变化，接着进行2D卷积，最后加权回原序列得到输出。\n",
    "\n",
    "下面详细介绍`TimesBlock`的实现。\n",
    "\n",
    "TimesBlock包含两个主要成员。"
   ]
  },
  {
   "cell_type": "code",
   "execution_count": null,
   "metadata": {},
   "outputs": [],
   "source": [
    "class TimesBlock(nn.Module):\n",
    "    def __init__(self, configs):\n",
    "        ...\n",
    "    \n",
    "    def forward(self, x):\n",
    "        ..."
   ]
  },
  {
   "cell_type": "markdown",
   "metadata": {},
   "source": [
    "首先关注`__init__(self, configs)`的实现："
   ]
  },
  {
   "cell_type": "code",
   "execution_count": null,
   "metadata": {},
   "outputs": [],
   "source": [
    "def __init__(self, configs):    # configs为TimesBlock的配置\n",
    "    super(TimesBlock, self).__init__()\n",
    "    self.seq_len = configs.seq_len   # 序列长度\n",
    "    self.pred_len = configs.pred_len # 预测长度\n",
    "    self.k = configs.top_k    # 选取的主频数量\n",
    "    # 参数高效设计\n",
    "    self.conv = nn.Sequential(\n",
    "        Inception_Block_V1(configs.d_model, configs.d_ff, num_kernels=configs.num_kernels),\n",
    "        nn.GELU(),\n",
    "        Inception_Block_V1(configs.d_ff, configs.d_model, num_kernels=configs.num_kernels)\n",
    "    )"
   ]
  },
  {
   "cell_type": "markdown",
   "metadata": {},
   "source": [
    "接下来，关注`forward(self, x)`的实现："
   ]
  },
  {
   "cell_type": "code",
   "execution_count": null,
   "metadata": {},
   "outputs": [],
   "source": [
    "def forward(self, x):\n",
    "    B, T, N = x.size()  # B:批大小 T:序列长度 N:特征数\n",
    "    period_list, period_weight = FFT_for_Period(x, self.k)\n",
    "    res = []\n",
    "    for i in range(self.k):\n",
    "        period = period_list[i]\n",
    "        if (self.seq_len + self.pred_len) % period != 0:\n",
    "            length = (((self.seq_len + self.pred_len) // period) + 1) * period\n",
    "            padding = torch.zeros([x.shape[0], (length - (self.seq_len + self.pred_len)), x.shape[2]]).to(x.device)\n",
    "            out = torch.cat([x, padding], dim=1)\n",
    "        else:\n",
    "            length = (self.seq_len + self.pred_len)\n",
    "            out = x\n",
    "        out = out.reshape(B, length // period, period, N).permute(0, 3, 1, 2).contiguous()\n",
    "        out = self.conv(out)\n",
    "        out = out.permute(0, 2, 3, 1).reshape(B, -1, N)\n",
    "        res.append(out[:, :(self.seq_len + self.pred_len), :])\n",
    "    res = torch.stack(res, dim=-1)\n",
    "    period_weight = F.softmax(period_weight, dim=1)\n",
    "    period_weight = period_weight.unsqueeze(1).unsqueeze(1).repeat(1, T, N, 1)\n",
    "    res = torch.sum(res * period_weight, -1)\n",
    "    res = res + x\n",
    "    return res"
   ]
  },
  {
   "cell_type": "markdown",
   "metadata": {},
   "source": [
    "上述`FFT_for_Period`函数定义如下："
   ]
  },
  {
   "cell_type": "code",
   "execution_count": null,
   "metadata": {},
   "outputs": [],
   "source": [
    "def FFT_for_Period(x, k=2):\n",
    "    xf = torch.fft.rfft(x, dim=1)\n",
    "    frequency_list = abs(xf).mean(0).mean(-1)\n",
    "    frequency_list[0] = 0\n",
    "    _, top_list = torch.topk(frequency_list, k)\n",
    "    top_list = top_list.detach().cpu().numpy()\n",
    "    period = x.shape[1] // top_list\n",
    "    return period, abs(xf).mean(-1)[:, top_list]"
   ]
  },
  {
   "cell_type": "markdown",
   "metadata": {},
   "source": [
    "更直观的理解可参考下图：\n",
    "\n",
    "![FFT 示意图](./tutorial/fft.png)\n",
    "\n",
    "![2D 卷积示意图](./tutorial/conv.png)\n"
   ]
  },
  {
   "cell_type": "markdown",
   "metadata": {},
   "source": [
    "更多细节可参考我们的论文：\n",
    "(链接: https://openreview.net/pdf?id=ju_Uqw384Oq)"
   ]
  },
  {
   "cell_type": "markdown",
   "metadata": {},
   "source": [
    "### 4. TimesNet整体结构\n",
    "\n",
    "有了`TimesBlock`，我们可以构建`TimesNet`，它擅长提取时序数据的周期性信息，支持多种任务。\n",
    "\n",
    "下面介绍`TimesNet`的整体结构和多任务能力。"
   ]
  },
  {
   "cell_type": "code",
   "execution_count": null,
   "metadata": {},
   "outputs": [],
   "source": [
    "class Model(nn.Module):\n",
    "    def __init__(self, configs):\n",
    "        ...\n",
    "    def forecast(self, x_enc, x_mark_enc, x_dec, x_mark_dec):\n",
    "        ...\n",
    "    def imputation(self, x_enc, x_mark_enc, x_dec, x_mark_dec, mask):\n",
    "        ...\n",
    "    def anomaly_detection(self, x_enc):\n",
    "        ...\n",
    "    def classification(self, x_enc, x_mark_enc):\n",
    "        ...\n",
    "    def forward(self, x_enc, x_mark_enc, x_dec, x_mark_dec, mask=None):\n",
    "        ..."
   ]
  },
  {
   "cell_type": "markdown",
   "metadata": {},
   "source": [
    "首先关注`__init__(self, configs)`的实现："
   ]
  },
  {
   "cell_type": "code",
   "execution_count": null,
   "metadata": {},
   "outputs": [],
   "source": [
    "def __init__(self, configs):\n",
    "    super(Model, self).__init__()\n",
    "    self.configs = configs\n",
    "    self.task_name = configs.task_name\n",
    "    self.seq_len = configs.seq_len\n",
    "    self.label_len = configs.label_len\n",
    "    self.pred_len = configs.pred_len\n",
    "    self.model = nn.ModuleList([TimesBlock(configs) for _ in range(configs.e_layers)])\n",
    "    self.enc_embedding = DataEmbedding(configs.enc_in, configs.d_model, configs.embed, configs.freq, configs.dropout)\n",
    "    self.layer = configs.e_layers\n",
    "    self.layer_norm = nn.LayerNorm(configs.d_model)\n",
    "    if self.task_name == 'long_term_forecast' or self.task_name == 'short_term_forecast':\n",
    "        self.predict_linear = nn.Linear(self.seq_len, self.pred_len + self.seq_len)\n",
    "        self.projection = nn.Linear(configs.d_model, configs.c_out, bias=True)\n",
    "    if self.task_name == 'imputation' or self.task_name == 'anomaly_detection':\n",
    "        self.projection = nn.Linear(configs.d_model, configs.c_out, bias=True)\n",
    "    if self.task_name == 'classification':\n",
    "        self.act = F.gelu\n",
    "        self.dropout = nn.Dropout(configs.dropout)\n",
    "        self.projection = nn.Linear(configs.d_model * configs.seq_len, configs.num_class)"
   ]
  },
  {
   "cell_type": "markdown",
   "metadata": {},
   "source": [
    "#### 4.1 预测任务\n",
    "预测的基本思想是将已知序列扩展到(seq_len+pred_len)长度，通过多层TimesBlock和归一化提取周期信息，最后投影到输出空间。"
   ]
  }
 ],
 "metadata": {
  "language_info": {
   "name": "python"
  }
 },
 "nbformat": 4,
 "nbformat_minor": 2
}
